{
 "cells": [
  {
   "cell_type": "markdown",
   "id": "665a281f",
   "metadata": {},
   "source": [
    "so my plan is that i would have 2 different iterations of the dataset: one iteration would be the raw dataset. The second iteration would have the resultant vector from every consecutive frame that would provide us with the vector values of the movement of the observed landmark. Now both of the datasets would be reshapes to better resemble an image even if they are far from an recognisable image. If the resizing is not feasable, we would transform the \"images\" into a uniform shape so that it could pass the model. \n",
    "\n",
    "After that is done, i would create a model with 2 convolutional branches that woudl recognize teh different characteristics of the \"images\", and whatever features it was able to extract from the \"images\" woould be utilized in the final prediction process as the two braches merge into each other(note that the vanilla version of the dataset brach would be be independant, but the other branch would be heavily influenced by the vanilla branch. This is done so that landmark movement vector has a reference point in space. \n",
    "\n",
    "The outputs of the model, both for training and validation, would also be transformed into image-like state so as to simplify the prediction process(note that since not all of the clips do not have the same frames, there woudl be a few null values, and to take care of those values we would just replace those values with 0. This is done because the data we are using are spatial data, and any misrepresentation could drastically affect the prediction of the model.\n",
    "\n",
    "Once we have the prediction, we woudld flatten out the data and then create another model, but this time it would be different, as i would be making a transfomer neural network. At the point of writting this manifesto, i have very little knowledge about transformer neural networks, so once i have gathered sufficient data regarding these model- I will be optimistic and vague."
   ]
  },
  {
   "cell_type": "code",
   "execution_count": 409,
   "id": "1ab5c7eb",
   "metadata": {},
   "outputs": [],
   "source": [
    "import torch\n",
    "from torch import nn\n",
    "from torch.utils import data\n",
    "import torchmetrics\n",
    "from sklearn.model_selection import train_test_split\n",
    "import glob\n",
    "from tqdm import notebook, tqdm\n",
    "from tqdm.notebook import tnrange\n",
    "from typing import List, Tuple, Dict\n",
    "from collections import defaultdict\n",
    "import pandas as pd\n",
    "import numpy as np\n",
    "import logging as lg\n",
    "import random\n",
    "import tensorflow as tf\n",
    "from tensorflow import keras\n",
    "from tensorflow.keras import layers\n",
    "import json"
   ]
  },
  {
   "cell_type": "code",
   "execution_count": 32,
   "id": "093a1860",
   "metadata": {},
   "outputs": [
    {
     "name": "stdout",
     "output_type": "stream",
     "text": [
      "Available device: mps\n"
     ]
    }
   ],
   "source": [
    "device = torch.device(\"mps\" if torch.backends.mps.is_available() else \"cpu\")\n",
    "print(f\"Available device: {device}\")"
   ]
  },
  {
   "cell_type": "code",
   "execution_count": 310,
   "id": "0484926b",
   "metadata": {},
   "outputs": [],
   "source": [
    "df = pd.read_parquet(\"/Users/arvinprince/pytorch-files/Google ASL/data/296317215.parquet\").reset_index()"
   ]
  },
  {
   "cell_type": "code",
   "execution_count": 261,
   "id": "8a8d4e5a",
   "metadata": {},
   "outputs": [],
   "source": [
    "with open(\"/Volumes/ExternalHDD/asl-fingerspelling/character_to_prediction_index.json\") as json_file:\n",
    "    CHAR2ORD = json.load(json_file)\n",
    "# CHAR2ORD = {j:i for i,j in CHAR2ORD.items()}"
   ]
  },
  {
   "cell_type": "code",
   "execution_count": 253,
   "id": "1eca4496",
   "metadata": {},
   "outputs": [],
   "source": [
    "# display(pd.Series(CHAR2ORD).to_frame(\"Ordinal Encoding\"))"
   ]
  },
  {
   "cell_type": "code",
   "execution_count": 311,
   "id": "fcdb81ca",
   "metadata": {
    "scrolled": false
   },
   "outputs": [
    {
     "name": "stdout",
     "output_type": "stream",
     "text": [
      "Shape of the dataset: (165396, 1631)\n"
     ]
    },
    {
     "data": {
      "text/html": [
       "<div>\n",
       "<style scoped>\n",
       "    .dataframe tbody tr th:only-of-type {\n",
       "        vertical-align: middle;\n",
       "    }\n",
       "\n",
       "    .dataframe tbody tr th {\n",
       "        vertical-align: top;\n",
       "    }\n",
       "\n",
       "    .dataframe thead th {\n",
       "        text-align: right;\n",
       "    }\n",
       "</style>\n",
       "<table border=\"1\" class=\"dataframe\">\n",
       "  <thead>\n",
       "    <tr style=\"text-align: right;\">\n",
       "      <th></th>\n",
       "      <th>sequence_id</th>\n",
       "      <th>frame</th>\n",
       "      <th>x_face_0</th>\n",
       "      <th>x_face_1</th>\n",
       "      <th>x_face_2</th>\n",
       "      <th>x_face_3</th>\n",
       "      <th>x_face_4</th>\n",
       "      <th>x_face_5</th>\n",
       "      <th>x_face_6</th>\n",
       "      <th>x_face_7</th>\n",
       "      <th>...</th>\n",
       "      <th>z_right_hand_11</th>\n",
       "      <th>z_right_hand_12</th>\n",
       "      <th>z_right_hand_13</th>\n",
       "      <th>z_right_hand_14</th>\n",
       "      <th>z_right_hand_15</th>\n",
       "      <th>z_right_hand_16</th>\n",
       "      <th>z_right_hand_17</th>\n",
       "      <th>z_right_hand_18</th>\n",
       "      <th>z_right_hand_19</th>\n",
       "      <th>z_right_hand_20</th>\n",
       "    </tr>\n",
       "  </thead>\n",
       "  <tbody>\n",
       "    <tr>\n",
       "      <th>0</th>\n",
       "      <td>1494438637</td>\n",
       "      <td>0</td>\n",
       "      <td>0.558159</td>\n",
       "      <td>0.550603</td>\n",
       "      <td>0.554162</td>\n",
       "      <td>0.543828</td>\n",
       "      <td>0.551478</td>\n",
       "      <td>0.555103</td>\n",
       "      <td>0.566358</td>\n",
       "      <td>0.455327</td>\n",
       "      <td>...</td>\n",
       "      <td>-0.124966</td>\n",
       "      <td>-0.113680</td>\n",
       "      <td>-0.103391</td>\n",
       "      <td>-0.118710</td>\n",
       "      <td>-0.091068</td>\n",
       "      <td>-0.071286</td>\n",
       "      <td>-0.095167</td>\n",
       "      <td>-0.091655</td>\n",
       "      <td>-0.064835</td>\n",
       "      <td>-0.046677</td>\n",
       "    </tr>\n",
       "    <tr>\n",
       "      <th>1</th>\n",
       "      <td>1494438637</td>\n",
       "      <td>1</td>\n",
       "      <td>0.559157</td>\n",
       "      <td>0.550627</td>\n",
       "      <td>0.554241</td>\n",
       "      <td>0.543452</td>\n",
       "      <td>0.551426</td>\n",
       "      <td>0.554883</td>\n",
       "      <td>0.565622</td>\n",
       "      <td>0.455519</td>\n",
       "      <td>...</td>\n",
       "      <td>-0.101074</td>\n",
       "      <td>-0.092762</td>\n",
       "      <td>-0.083472</td>\n",
       "      <td>-0.102874</td>\n",
       "      <td>-0.077500</td>\n",
       "      <td>-0.058431</td>\n",
       "      <td>-0.076877</td>\n",
       "      <td>-0.079398</td>\n",
       "      <td>-0.056055</td>\n",
       "      <td>-0.039821</td>\n",
       "    </tr>\n",
       "    <tr>\n",
       "      <th>2</th>\n",
       "      <td>1494438637</td>\n",
       "      <td>2</td>\n",
       "      <td>0.555381</td>\n",
       "      <td>0.551183</td>\n",
       "      <td>0.554637</td>\n",
       "      <td>0.543676</td>\n",
       "      <td>0.551955</td>\n",
       "      <td>0.555277</td>\n",
       "      <td>0.565502</td>\n",
       "      <td>0.454227</td>\n",
       "      <td>...</td>\n",
       "      <td>-0.139371</td>\n",
       "      <td>-0.124513</td>\n",
       "      <td>-0.095812</td>\n",
       "      <td>-0.131984</td>\n",
       "      <td>-0.104427</td>\n",
       "      <td>-0.075522</td>\n",
       "      <td>-0.096968</td>\n",
       "      <td>-0.116063</td>\n",
       "      <td>-0.090169</td>\n",
       "      <td>-0.064778</td>\n",
       "    </tr>\n",
       "    <tr>\n",
       "      <th>3</th>\n",
       "      <td>1494438637</td>\n",
       "      <td>3</td>\n",
       "      <td>0.557249</td>\n",
       "      <td>0.550174</td>\n",
       "      <td>0.553681</td>\n",
       "      <td>0.542862</td>\n",
       "      <td>0.550985</td>\n",
       "      <td>0.554343</td>\n",
       "      <td>0.564671</td>\n",
       "      <td>0.454935</td>\n",
       "      <td>...</td>\n",
       "      <td>-0.187725</td>\n",
       "      <td>-0.179453</td>\n",
       "      <td>-0.133177</td>\n",
       "      <td>-0.173193</td>\n",
       "      <td>-0.143141</td>\n",
       "      <td>-0.115510</td>\n",
       "      <td>-0.135543</td>\n",
       "      <td>-0.150484</td>\n",
       "      <td>-0.123912</td>\n",
       "      <td>-0.102089</td>\n",
       "    </tr>\n",
       "    <tr>\n",
       "      <th>4</th>\n",
       "      <td>1494438637</td>\n",
       "      <td>4</td>\n",
       "      <td>0.557520</td>\n",
       "      <td>0.551252</td>\n",
       "      <td>0.554584</td>\n",
       "      <td>0.543844</td>\n",
       "      <td>0.552108</td>\n",
       "      <td>0.555526</td>\n",
       "      <td>0.566051</td>\n",
       "      <td>0.454531</td>\n",
       "      <td>...</td>\n",
       "      <td>-0.167483</td>\n",
       "      <td>-0.152804</td>\n",
       "      <td>-0.127324</td>\n",
       "      <td>-0.171816</td>\n",
       "      <td>-0.133314</td>\n",
       "      <td>-0.097499</td>\n",
       "      <td>-0.145111</td>\n",
       "      <td>-0.160346</td>\n",
       "      <td>-0.122395</td>\n",
       "      <td>-0.090545</td>\n",
       "    </tr>\n",
       "  </tbody>\n",
       "</table>\n",
       "<p>5 rows × 1631 columns</p>\n",
       "</div>"
      ],
      "text/plain": [
       "   sequence_id  frame  x_face_0  x_face_1  x_face_2  x_face_3  x_face_4  \\\n",
       "0   1494438637      0  0.558159  0.550603  0.554162  0.543828  0.551478   \n",
       "1   1494438637      1  0.559157  0.550627  0.554241  0.543452  0.551426   \n",
       "2   1494438637      2  0.555381  0.551183  0.554637  0.543676  0.551955   \n",
       "3   1494438637      3  0.557249  0.550174  0.553681  0.542862  0.550985   \n",
       "4   1494438637      4  0.557520  0.551252  0.554584  0.543844  0.552108   \n",
       "\n",
       "   x_face_5  x_face_6  x_face_7  ...  z_right_hand_11  z_right_hand_12  \\\n",
       "0  0.555103  0.566358  0.455327  ...        -0.124966        -0.113680   \n",
       "1  0.554883  0.565622  0.455519  ...        -0.101074        -0.092762   \n",
       "2  0.555277  0.565502  0.454227  ...        -0.139371        -0.124513   \n",
       "3  0.554343  0.564671  0.454935  ...        -0.187725        -0.179453   \n",
       "4  0.555526  0.566051  0.454531  ...        -0.167483        -0.152804   \n",
       "\n",
       "   z_right_hand_13  z_right_hand_14  z_right_hand_15  z_right_hand_16  \\\n",
       "0        -0.103391        -0.118710        -0.091068        -0.071286   \n",
       "1        -0.083472        -0.102874        -0.077500        -0.058431   \n",
       "2        -0.095812        -0.131984        -0.104427        -0.075522   \n",
       "3        -0.133177        -0.173193        -0.143141        -0.115510   \n",
       "4        -0.127324        -0.171816        -0.133314        -0.097499   \n",
       "\n",
       "   z_right_hand_17  z_right_hand_18  z_right_hand_19  z_right_hand_20  \n",
       "0        -0.095167        -0.091655        -0.064835        -0.046677  \n",
       "1        -0.076877        -0.079398        -0.056055        -0.039821  \n",
       "2        -0.096968        -0.116063        -0.090169        -0.064778  \n",
       "3        -0.135543        -0.150484        -0.123912        -0.102089  \n",
       "4        -0.145111        -0.160346        -0.122395        -0.090545  \n",
       "\n",
       "[5 rows x 1631 columns]"
      ]
     },
     "execution_count": 311,
     "metadata": {},
     "output_type": "execute_result"
    }
   ],
   "source": [
    "print(f\"Shape of the dataset: {df.shape}\")\n",
    "df.head()"
   ]
  },
  {
   "cell_type": "markdown",
   "id": "91064bd6",
   "metadata": {},
   "source": [
    "468 face 25 pose 21 right 21 left\n"
   ]
  },
  {
   "cell_type": "code",
   "execution_count": 312,
   "id": "68008042",
   "metadata": {},
   "outputs": [
    {
     "data": {
      "application/vnd.jupyter.widget-view+json": {
       "model_id": "ae2ab4e25baa410dbdc1432b53a6051d",
       "version_major": 2,
       "version_minor": 0
      },
      "text/plain": [
       "  0%|          | 0/468 [00:00<?, ?it/s]"
      ]
     },
     "metadata": {},
     "output_type": "display_data"
    },
    {
     "data": {
      "application/vnd.jupyter.widget-view+json": {
       "model_id": "f47d9e4ffa5c4857882e80fde5043f32",
       "version_major": 2,
       "version_minor": 0
      },
      "text/plain": [
       "  0%|          | 0/25 [00:00<?, ?it/s]"
      ]
     },
     "metadata": {},
     "output_type": "display_data"
    },
    {
     "data": {
      "application/vnd.jupyter.widget-view+json": {
       "model_id": "c30c013b6c1f49c89b1f9b6e20123178",
       "version_major": 2,
       "version_minor": 0
      },
      "text/plain": [
       "  0%|          | 0/21 [00:00<?, ?it/s]"
      ]
     },
     "metadata": {},
     "output_type": "display_data"
    },
    {
     "data": {
      "application/vnd.jupyter.widget-view+json": {
       "model_id": "501a9dd5aab14ea884845d6a1281d0db",
       "version_major": 2,
       "version_minor": 0
      },
      "text/plain": [
       "  0%|          | 0/21 [00:00<?, ?it/s]"
      ]
     },
     "metadata": {},
     "output_type": "display_data"
    },
    {
     "name": "stdout",
     "output_type": "stream",
     "text": [
      "Shape of the dataset after processing it (164396, 537)\n"
     ]
    },
    {
     "data": {
      "text/html": [
       "<div>\n",
       "<style scoped>\n",
       "    .dataframe tbody tr th:only-of-type {\n",
       "        vertical-align: middle;\n",
       "    }\n",
       "\n",
       "    .dataframe tbody tr th {\n",
       "        vertical-align: top;\n",
       "    }\n",
       "\n",
       "    .dataframe thead th {\n",
       "        text-align: right;\n",
       "    }\n",
       "</style>\n",
       "<table border=\"1\" class=\"dataframe\">\n",
       "  <thead>\n",
       "    <tr style=\"text-align: right;\">\n",
       "      <th></th>\n",
       "      <th>sequence_id</th>\n",
       "      <th>frame</th>\n",
       "      <th>y_face_0</th>\n",
       "      <th>y_face_1</th>\n",
       "      <th>y_face_2</th>\n",
       "      <th>y_face_3</th>\n",
       "      <th>y_face_4</th>\n",
       "      <th>y_face_5</th>\n",
       "      <th>y_face_6</th>\n",
       "      <th>y_face_7</th>\n",
       "      <th>...</th>\n",
       "      <th>y_right_hand_11</th>\n",
       "      <th>y_right_hand_12</th>\n",
       "      <th>y_right_hand_13</th>\n",
       "      <th>y_right_hand_14</th>\n",
       "      <th>y_right_hand_15</th>\n",
       "      <th>y_right_hand_16</th>\n",
       "      <th>y_right_hand_17</th>\n",
       "      <th>y_right_hand_18</th>\n",
       "      <th>y_right_hand_19</th>\n",
       "      <th>y_right_hand_20</th>\n",
       "    </tr>\n",
       "  </thead>\n",
       "  <tbody>\n",
       "    <tr>\n",
       "      <th>1</th>\n",
       "      <td>1494438637</td>\n",
       "      <td>1</td>\n",
       "      <td>0.001591</td>\n",
       "      <td>0.000172</td>\n",
       "      <td>0.000214</td>\n",
       "      <td>0.000375</td>\n",
       "      <td>0.000112</td>\n",
       "      <td>0.000222</td>\n",
       "      <td>0.000758</td>\n",
       "      <td>0.000745</td>\n",
       "      <td>...</td>\n",
       "      <td>0.051241</td>\n",
       "      <td>0.042954</td>\n",
       "      <td>0.055037</td>\n",
       "      <td>0.059306</td>\n",
       "      <td>0.062434</td>\n",
       "      <td>0.058445</td>\n",
       "      <td>0.062547</td>\n",
       "      <td>0.066954</td>\n",
       "      <td>0.068401</td>\n",
       "      <td>0.065617</td>\n",
       "    </tr>\n",
       "    <tr>\n",
       "      <th>2</th>\n",
       "      <td>1494438637</td>\n",
       "      <td>2</td>\n",
       "      <td>0.004113</td>\n",
       "      <td>0.001664</td>\n",
       "      <td>0.001476</td>\n",
       "      <td>0.001268</td>\n",
       "      <td>0.001613</td>\n",
       "      <td>0.001450</td>\n",
       "      <td>0.000986</td>\n",
       "      <td>0.001597</td>\n",
       "      <td>...</td>\n",
       "      <td>0.041070</td>\n",
       "      <td>0.049006</td>\n",
       "      <td>0.070630</td>\n",
       "      <td>0.062432</td>\n",
       "      <td>0.057434</td>\n",
       "      <td>0.054491</td>\n",
       "      <td>0.089510</td>\n",
       "      <td>0.083886</td>\n",
       "      <td>0.076243</td>\n",
       "      <td>0.077719</td>\n",
       "    </tr>\n",
       "    <tr>\n",
       "      <th>3</th>\n",
       "      <td>1494438637</td>\n",
       "      <td>3</td>\n",
       "      <td>0.002160</td>\n",
       "      <td>0.001011</td>\n",
       "      <td>0.000960</td>\n",
       "      <td>0.000813</td>\n",
       "      <td>0.000972</td>\n",
       "      <td>0.000934</td>\n",
       "      <td>0.000831</td>\n",
       "      <td>0.001543</td>\n",
       "      <td>...</td>\n",
       "      <td>0.025862</td>\n",
       "      <td>0.029043</td>\n",
       "      <td>0.054162</td>\n",
       "      <td>0.031141</td>\n",
       "      <td>0.022392</td>\n",
       "      <td>0.023426</td>\n",
       "      <td>0.058553</td>\n",
       "      <td>0.036993</td>\n",
       "      <td>0.026859</td>\n",
       "      <td>0.027531</td>\n",
       "    </tr>\n",
       "    <tr>\n",
       "      <th>4</th>\n",
       "      <td>1494438637</td>\n",
       "      <td>4</td>\n",
       "      <td>0.000711</td>\n",
       "      <td>0.002018</td>\n",
       "      <td>0.001578</td>\n",
       "      <td>0.001904</td>\n",
       "      <td>0.002102</td>\n",
       "      <td>0.002106</td>\n",
       "      <td>0.002063</td>\n",
       "      <td>0.000520</td>\n",
       "      <td>...</td>\n",
       "      <td>0.030526</td>\n",
       "      <td>0.035471</td>\n",
       "      <td>0.009824</td>\n",
       "      <td>0.024465</td>\n",
       "      <td>0.039194</td>\n",
       "      <td>0.040566</td>\n",
       "      <td>0.014380</td>\n",
       "      <td>0.031524</td>\n",
       "      <td>0.036001</td>\n",
       "      <td>0.037391</td>\n",
       "    </tr>\n",
       "    <tr>\n",
       "      <th>5</th>\n",
       "      <td>1494438637</td>\n",
       "      <td>5</td>\n",
       "      <td>0.001263</td>\n",
       "      <td>0.002059</td>\n",
       "      <td>0.001712</td>\n",
       "      <td>0.001721</td>\n",
       "      <td>0.002088</td>\n",
       "      <td>0.001934</td>\n",
       "      <td>0.001367</td>\n",
       "      <td>0.001977</td>\n",
       "      <td>...</td>\n",
       "      <td>0.010642</td>\n",
       "      <td>0.005636</td>\n",
       "      <td>0.056476</td>\n",
       "      <td>0.031731</td>\n",
       "      <td>0.026046</td>\n",
       "      <td>0.020409</td>\n",
       "      <td>0.067420</td>\n",
       "      <td>0.062809</td>\n",
       "      <td>0.045857</td>\n",
       "      <td>0.033927</td>\n",
       "    </tr>\n",
       "  </tbody>\n",
       "</table>\n",
       "<p>5 rows × 537 columns</p>\n",
       "</div>"
      ],
      "text/plain": [
       "   sequence_id  frame  y_face_0  y_face_1  y_face_2  y_face_3  y_face_4  \\\n",
       "1   1494438637      1  0.001591  0.000172  0.000214  0.000375  0.000112   \n",
       "2   1494438637      2  0.004113  0.001664  0.001476  0.001268  0.001613   \n",
       "3   1494438637      3  0.002160  0.001011  0.000960  0.000813  0.000972   \n",
       "4   1494438637      4  0.000711  0.002018  0.001578  0.001904  0.002102   \n",
       "5   1494438637      5  0.001263  0.002059  0.001712  0.001721  0.002088   \n",
       "\n",
       "   y_face_5  y_face_6  y_face_7  ...  y_right_hand_11  y_right_hand_12  \\\n",
       "1  0.000222  0.000758  0.000745  ...         0.051241         0.042954   \n",
       "2  0.001450  0.000986  0.001597  ...         0.041070         0.049006   \n",
       "3  0.000934  0.000831  0.001543  ...         0.025862         0.029043   \n",
       "4  0.002106  0.002063  0.000520  ...         0.030526         0.035471   \n",
       "5  0.001934  0.001367  0.001977  ...         0.010642         0.005636   \n",
       "\n",
       "   y_right_hand_13  y_right_hand_14  y_right_hand_15  y_right_hand_16  \\\n",
       "1         0.055037         0.059306         0.062434         0.058445   \n",
       "2         0.070630         0.062432         0.057434         0.054491   \n",
       "3         0.054162         0.031141         0.022392         0.023426   \n",
       "4         0.009824         0.024465         0.039194         0.040566   \n",
       "5         0.056476         0.031731         0.026046         0.020409   \n",
       "\n",
       "   y_right_hand_17  y_right_hand_18  y_right_hand_19  y_right_hand_20  \n",
       "1         0.062547         0.066954         0.068401         0.065617  \n",
       "2         0.089510         0.083886         0.076243         0.077719  \n",
       "3         0.058553         0.036993         0.026859         0.027531  \n",
       "4         0.014380         0.031524         0.036001         0.037391  \n",
       "5         0.067420         0.062809         0.045857         0.033927  \n",
       "\n",
       "[5 rows x 537 columns]"
      ]
     },
     "execution_count": 312,
     "metadata": {},
     "output_type": "execute_result"
    }
   ],
   "source": [
    "# filling the nan values with 0\n",
    "df.fillna(0, inplace=True)\n",
    "\n",
    "# dropping z values from the dataset \n",
    "df.drop([col for col in df.columns if \"z\" in col], axis = 1, inplace=True)\n",
    "# dropping the pose values below the waist\n",
    "df.drop([col for col in df.columns if \"pose\" in col and int(col[7:]) >= 25], axis = 1, inplace=True)\n",
    "# saving the sequence id and the frame values in another variable\n",
    "metadata= df.iloc[:,:2]\n",
    "# # we are taking the Euclidian norm or L2 norm of the vectors \n",
    "\n",
    "# taking the difference of every two consective frame\n",
    "df = df.iloc[:,2:].diff()\n",
    "# dropping the nan values, specifically the first row, after taking the difference\n",
    "df.dropna(inplace=True)\n",
    "# squaring every value in the dataframe\n",
    "df = df.apply(lambda x: x**2)\n",
    "# taking the sum of the coordinate of every single landmark basically taking the modulus of the vector\n",
    "landmarks = [\"_face_\", \"_pose_\", \"_right_hand_\", \"_left_hand_\"]\n",
    "for l in landmarks:\n",
    "    if l == landmarks[0]:\n",
    "        for n in tnrange(468):\n",
    "            df[\"y\"+l+str(n)] = df[\"x\"+l+str(n)] + df[\"y\"+l+str(n)]\n",
    "    if l == landmarks[1]:\n",
    "        for n in tnrange(25):\n",
    "            df[\"y\"+l+str(n)] = df[\"x\"+l+str(n)] + df[\"y\"+l+str(n)]\n",
    "    if l == landmarks[2]:\n",
    "        for n in tnrange(21):\n",
    "            df[\"y\"+l+str(n)] = df[\"x\"+l+str(n)] + df[\"y\"+l+str(n)]\n",
    "    if l == landmarks[3]:\n",
    "        for n in tnrange(21):\n",
    "            df[\"y\"+l+str(n)] = df[\"x\"+l+str(n)] + df[\"y\"+l+str(n)]\n",
    "# dropping off the x values since we took the sum on the y values\n",
    "df.drop([x for x in df.columns if \"x\" in x], inplace= True, axis = 1)\n",
    "# concatenating the metadata to the processed dataset\n",
    "df = pd.concat([metadata,df.apply(lambda x: x**0.5)], axis=1)\n",
    "# removing the nan values due to adding the metadata\n",
    "df = df.dropna()\n",
    "# removing the first frame of every sequence id because of spilling of the previous sequence id's last frame into the first frame of the particular sequence if\n",
    "df.drop(index=list(df.query(\"frame == 0\").index), inplace=True)\n",
    "print(f\"Shape of the dataset after processing it {df.shape}\")\n",
    "df.head()"
   ]
  },
  {
   "cell_type": "markdown",
   "id": "9c6952a0",
   "metadata": {},
   "source": [
    "<b><h2>the table above has the optical flow values of every significant landmark</h2>"
   ]
  },
  {
   "cell_type": "code",
   "execution_count": 38,
   "id": "dbbe57ed",
   "metadata": {},
   "outputs": [
    {
     "data": {
      "text/html": [
       "<div>\n",
       "<style scoped>\n",
       "    .dataframe tbody tr th:only-of-type {\n",
       "        vertical-align: middle;\n",
       "    }\n",
       "\n",
       "    .dataframe tbody tr th {\n",
       "        vertical-align: top;\n",
       "    }\n",
       "\n",
       "    .dataframe thead th {\n",
       "        text-align: right;\n",
       "    }\n",
       "</style>\n",
       "<table border=\"1\" class=\"dataframe\">\n",
       "  <thead>\n",
       "    <tr style=\"text-align: right;\">\n",
       "      <th></th>\n",
       "      <th>path</th>\n",
       "      <th>file_id</th>\n",
       "      <th>sequence_id</th>\n",
       "      <th>participant_id</th>\n",
       "      <th>phrase</th>\n",
       "    </tr>\n",
       "  </thead>\n",
       "  <tbody>\n",
       "    <tr>\n",
       "      <th>0</th>\n",
       "      <td>train_landmarks/5414471.parquet</td>\n",
       "      <td>5414471</td>\n",
       "      <td>1816796431</td>\n",
       "      <td>217</td>\n",
       "      <td>3 creekhouse</td>\n",
       "    </tr>\n",
       "    <tr>\n",
       "      <th>1</th>\n",
       "      <td>train_landmarks/5414471.parquet</td>\n",
       "      <td>5414471</td>\n",
       "      <td>1816825349</td>\n",
       "      <td>107</td>\n",
       "      <td>scales/kuhaylah</td>\n",
       "    </tr>\n",
       "    <tr>\n",
       "      <th>2</th>\n",
       "      <td>train_landmarks/5414471.parquet</td>\n",
       "      <td>5414471</td>\n",
       "      <td>1816909464</td>\n",
       "      <td>1</td>\n",
       "      <td>1383 william lanier</td>\n",
       "    </tr>\n",
       "    <tr>\n",
       "      <th>3</th>\n",
       "      <td>train_landmarks/5414471.parquet</td>\n",
       "      <td>5414471</td>\n",
       "      <td>1816967051</td>\n",
       "      <td>63</td>\n",
       "      <td>988 franklin lane</td>\n",
       "    </tr>\n",
       "    <tr>\n",
       "      <th>4</th>\n",
       "      <td>train_landmarks/5414471.parquet</td>\n",
       "      <td>5414471</td>\n",
       "      <td>1817123330</td>\n",
       "      <td>89</td>\n",
       "      <td>6920 northeast 661st road</td>\n",
       "    </tr>\n",
       "  </tbody>\n",
       "</table>\n",
       "</div>"
      ],
      "text/plain": [
       "                              path  file_id  sequence_id  participant_id  \\\n",
       "0  train_landmarks/5414471.parquet  5414471   1816796431             217   \n",
       "1  train_landmarks/5414471.parquet  5414471   1816825349             107   \n",
       "2  train_landmarks/5414471.parquet  5414471   1816909464               1   \n",
       "3  train_landmarks/5414471.parquet  5414471   1816967051              63   \n",
       "4  train_landmarks/5414471.parquet  5414471   1817123330              89   \n",
       "\n",
       "                      phrase  \n",
       "0               3 creekhouse  \n",
       "1            scales/kuhaylah  \n",
       "2        1383 william lanier  \n",
       "3          988 franklin lane  \n",
       "4  6920 northeast 661st road  "
      ]
     },
     "execution_count": 38,
     "metadata": {},
     "output_type": "execute_result"
    }
   ],
   "source": [
    "train_csv.head()"
   ]
  },
  {
   "cell_type": "code",
   "execution_count": 39,
   "id": "d1465f5f",
   "metadata": {},
   "outputs": [
    {
     "data": {
      "text/plain": [
       "path                 68\n",
       "file_id              68\n",
       "sequence_id       67208\n",
       "participant_id       94\n",
       "phrase            46478\n",
       "dtype: int64"
      ]
     },
     "execution_count": 39,
     "metadata": {},
     "output_type": "execute_result"
    }
   ],
   "source": [
    "train_csv.nunique()"
   ]
  },
  {
   "cell_type": "code",
   "execution_count": 21,
   "id": "d9cf2760",
   "metadata": {},
   "outputs": [
    {
     "data": {
      "text/plain": [
       "988.3529411764706"
      ]
     },
     "execution_count": 21,
     "metadata": {},
     "output_type": "execute_result"
    }
   ],
   "source": [
    "67208/68"
   ]
  },
  {
   "cell_type": "code",
   "execution_count": 40,
   "id": "bb995be5",
   "metadata": {},
   "outputs": [
    {
     "name": "stdout",
     "output_type": "stream",
     "text": [
      "<class 'pandas.core.frame.DataFrame'>\n",
      "Int64Index: 164396 entries, 1 to 165395\n",
      "Columns: 537 entries, sequence_id to y_right_hand_20\n",
      "dtypes: float32(535), int16(1), int64(1)\n",
      "memory usage: 338.3 MB\n"
     ]
    }
   ],
   "source": [
    "df.info()"
   ]
  },
  {
   "cell_type": "code",
   "execution_count": 117,
   "id": "2d27ea19",
   "metadata": {},
   "outputs": [
    {
     "data": {
      "text/plain": [
       "27.2"
      ]
     },
     "execution_count": 117,
     "metadata": {},
     "output_type": "execute_result"
    }
   ],
   "source": [
    "400*68/1000"
   ]
  },
  {
   "cell_type": "code",
   "execution_count": 120,
   "id": "49bb4ade",
   "metadata": {},
   "outputs": [
    {
     "data": {
      "text/plain": [
       "664"
      ]
     },
     "execution_count": 120,
     "metadata": {},
     "output_type": "execute_result"
    }
   ],
   "source": [
    "df.frame.max()"
   ]
  },
  {
   "cell_type": "code",
   "execution_count": 129,
   "id": "6abaabd7",
   "metadata": {},
   "outputs": [],
   "source": [
    "sequence_id = list(df.drop(\"frame\", axis=1).groupby(\"sequence_id\").grouper)"
   ]
  },
  {
   "cell_type": "code",
   "execution_count": 193,
   "id": "99a54e0d",
   "metadata": {},
   "outputs": [],
   "source": [
    "X = []\n",
    "coords = df.groupby(\"sequence_id\").get_group(sequence_id[1])\n",
    "coords1 = df.groupby(\"sequence_id\").get_group(sequence_id[2])\n",
    "coords = np.asarray(coords.drop([\"sequence_id\", \"frame\"], axis= 1))\n",
    "coords1 = np.asarray(coords1.drop([\"sequence_id\", \"frame\"], axis= 1))\n",
    "# np.save(\"/Volumes/ExternalHDD/asl-fingerspelling/np.npy\", l)"
   ]
  },
  {
   "cell_type": "code",
   "execution_count": 200,
   "id": "e0c85c06",
   "metadata": {},
   "outputs": [
    {
     "data": {
      "text/plain": [
       "((535, 97), (535, 184))"
      ]
     },
     "execution_count": 200,
     "metadata": {},
     "output_type": "execute_result"
    }
   ],
   "source": [
    "coords.transpose().shape, coords1.transpose().shape"
   ]
  },
  {
   "cell_type": "markdown",
   "id": "2ecaeb7f",
   "metadata": {},
   "source": [
    "rather than just using the cartesian coordinates that have been provided we can use the resultant vector from consecutive frames to track the movement of the arms the face and the posture. Using this"
   ]
  },
  {
   "cell_type": "code",
   "execution_count": 432,
   "id": "bd0c5380",
   "metadata": {},
   "outputs": [
    {
     "data": {
      "text/plain": [
       "array([[0.001591 , 0.0001718, 0.0002141, ..., 0.06696  , 0.0684   ,\n",
       "        0.0656   ],\n",
       "       [0.004112 , 0.001664 , 0.001476 , ..., 0.08386  , 0.07623  ,\n",
       "        0.0777   ],\n",
       "       [0.002161 , 0.001011 , 0.00096  , ..., 0.037    , 0.02686  ,\n",
       "        0.02753  ],\n",
       "       ...,\n",
       "       [0.001054 , 0.003738 , 0.003016 , ..., 0.003862 , 0.006214 ,\n",
       "        0.005867 ],\n",
       "       [0.001858 , 0.0004613, 0.0006757, ..., 0.001251 , 0.00578  ,\n",
       "        0.00954  ],\n",
       "       [0.001436 , 0.003063 , 0.002632 , ..., 0.0114   , 0.01354  ,\n",
       "        0.02129  ]], dtype=float16)"
      ]
     },
     "execution_count": 432,
     "metadata": {},
     "output_type": "execute_result"
    }
   ],
   "source": [
    "np.array(df.groupby(\"sequence_id\").get_group(1494438637).iloc[:, 2:], dtype=np.float16)"
   ]
  },
  {
   "cell_type": "code",
   "execution_count": 435,
   "id": "154f39ad",
   "metadata": {},
   "outputs": [
    {
     "ename": "ValueError",
     "evalue": "cannot reshape array of size 56710 into shape ()",
     "output_type": "error",
     "traceback": [
      "\u001b[0;31m---------------------------------------------------------------------------\u001b[0m",
      "\u001b[0;31mValueError\u001b[0m                                Traceback (most recent call last)",
      "\u001b[0;32m/var/folders/38/jtldm9cn7qjfn516_22dcgcm0000gn/T/ipykernel_77655/3925304763.py\u001b[0m in \u001b[0;36m<cell line: 1>\u001b[0;34m()\u001b[0m\n\u001b[0;32m----> 1\u001b[0;31m \u001b[0mnp\u001b[0m\u001b[0;34m.\u001b[0m\u001b[0marray\u001b[0m\u001b[0;34m(\u001b[0m\u001b[0mdf\u001b[0m\u001b[0;34m.\u001b[0m\u001b[0mgroupby\u001b[0m\u001b[0;34m(\u001b[0m\u001b[0;34m\"sequence_id\"\u001b[0m\u001b[0;34m)\u001b[0m\u001b[0;34m.\u001b[0m\u001b[0mget_group\u001b[0m\u001b[0;34m(\u001b[0m\u001b[0;36m1494438637\u001b[0m\u001b[0;34m)\u001b[0m\u001b[0;34m.\u001b[0m\u001b[0miloc\u001b[0m\u001b[0;34m[\u001b[0m\u001b[0;34m:\u001b[0m\u001b[0;34m,\u001b[0m \u001b[0;36m2\u001b[0m\u001b[0;34m:\u001b[0m\u001b[0;34m]\u001b[0m\u001b[0;34m,\u001b[0m \u001b[0mdtype\u001b[0m\u001b[0;34m=\u001b[0m\u001b[0mnp\u001b[0m\u001b[0;34m.\u001b[0m\u001b[0mfloat16\u001b[0m\u001b[0;34m)\u001b[0m\u001b[0;34m.\u001b[0m\u001b[0mreshape\u001b[0m\u001b[0;34m(\u001b[0m\u001b[0;34m(\u001b[0m\u001b[0;34m)\u001b[0m\u001b[0;34m)\u001b[0m\u001b[0;34m\u001b[0m\u001b[0;34m\u001b[0m\u001b[0m\n\u001b[0m",
      "\u001b[0;31mValueError\u001b[0m: cannot reshape array of size 56710 into shape ()"
     ]
    }
   ],
   "source": [
    "np.array(df.groupby(\"sequence_id\").get_group(1494438637).iloc[:, 2:], dtype=np.float16).reshape(())"
   ]
  },
  {
   "cell_type": "code",
   "execution_count": null,
   "id": "e7bc3432",
   "metadata": {},
   "outputs": [],
   "source": [
    "56710"
   ]
  },
  {
   "cell_type": "code",
   "execution_count": 272,
   "id": "7a23409b",
   "metadata": {},
   "outputs": [
    {
     "data": {
      "text/plain": [
       "path                 68\n",
       "file_id              68\n",
       "sequence_id       67208\n",
       "participant_id       94\n",
       "phrase            46478\n",
       "dtype: int64"
      ]
     },
     "execution_count": 272,
     "metadata": {},
     "output_type": "execute_result"
    }
   ],
   "source": [
    "train_csv.nunique()"
   ]
  },
  {
   "cell_type": "code",
   "execution_count": 274,
   "id": "b55c0eb0",
   "metadata": {},
   "outputs": [
    {
     "data": {
      "text/plain": [
       "dict_keys([' ', '!', '#', '$', '%', '&', \"'\", '(', ')', '*', '+', ',', '-', '.', '/', '0', '1', '2', '3', '4', '5', '6', '7', '8', '9', ':', ';', '=', '?', '@', '[', '_', 'a', 'b', 'c', 'd', 'e', 'f', 'g', 'h', 'i', 'j', 'k', 'l', 'm', 'n', 'o', 'p', 'q', 'r', 's', 't', 'u', 'v', 'w', 'x', 'y', 'z', '~'])"
      ]
     },
     "execution_count": 274,
     "metadata": {},
     "output_type": "execute_result"
    }
   ],
   "source": [
    "CHAR2ORD.keys()"
   ]
  },
  {
   "cell_type": "code",
   "execution_count": 287,
   "id": "ed4a8edf",
   "metadata": {},
   "outputs": [
    {
     "data": {
      "text/plain": [
       "array([18,  0, 34, 49, 36, 36, 42, 39, 46, 52, 50, 36])"
      ]
     },
     "execution_count": 287,
     "metadata": {},
     "output_type": "execute_result"
    }
   ],
   "source": [
    "# bar = notebook(target=train_)\n",
    "char = []\n",
    "for n, i in enumerate(train_csv.phrase[0]):\n",
    "    char.append(CHAR2ORD[i])\n",
    "np.array(char)"
   ]
  },
  {
   "cell_type": "code",
   "execution_count": 282,
   "id": "393c9bae",
   "metadata": {},
   "outputs": [
    {
     "data": {
      "text/plain": [
       "'3 creekhouse'"
      ]
     },
     "execution_count": 282,
     "metadata": {},
     "output_type": "execute_result"
    }
   ],
   "source": [
    "train_csv.phrase[0]"
   ]
  },
  {
   "cell_type": "code",
   "execution_count": 425,
   "id": "80400e52",
   "metadata": {},
   "outputs": [],
   "source": [
    "train_csv = pd.read_csv(\"/Users/arvinprince/pytorch-files/Google ASL/data/train.csv\")\n",
    "sequence_ids = df.sequence_id.unique()\n",
    "train_csv.set_index(\"sequence_id\", inplace=True)\n",
    "# phrases = train_csv.loc[sequence_ids, \"phrase\"]\n",
    "phrases = pd.DataFrame(train_csv.loc[sequence_ids, [\"phrase\"]])\n",
    "# train_csv"
   ]
  },
  {
   "cell_type": "code",
   "execution_count": 426,
   "id": "9f8aebc2",
   "metadata": {},
   "outputs": [],
   "source": [
    "def phrase2array(string:str):\n",
    "    arr = []\n",
    "    for char in string:\n",
    "        arr.append(CHAR2ORD[char])\n",
    "    return np.asarray(arr, dtype= np.float16)"
   ]
  },
  {
   "cell_type": "code",
   "execution_count": 427,
   "id": "e7b44346",
   "metadata": {},
   "outputs": [],
   "source": [
    "def sequence_id2optical_flow(s_ids:List):\n",
    "    X = []\n",
    "    for ids in s_ids:\n",
    "        X.append(np.asarray(df.groupby(\"sequence_id\").get_group(ids).iloc[:,2:], dtype=np.float16))\n",
    "    return np.array(X, dtype=\"object\")"
   ]
  },
  {
   "cell_type": "code",
   "execution_count": 428,
   "id": "4a90d726",
   "metadata": {},
   "outputs": [],
   "source": [
    "# phrases.reset_index()\n",
    "phrases = phrases.phrase.apply(phrase2array)"
   ]
  },
  {
   "cell_type": "code",
   "execution_count": 429,
   "id": "2a724346",
   "metadata": {},
   "outputs": [],
   "source": [
    "optical_flow = pd.Series(sequence_id2optical_flow(list(phrases.index)), name=\"optical_flow\")"
   ]
  },
  {
   "cell_type": "code",
   "execution_count": 430,
   "id": "b4ef32a9",
   "metadata": {},
   "outputs": [],
   "source": [
    "dataset = pd.concat([phrases.reset_index(), optical_flow], axis=1)"
   ]
  },
  {
   "cell_type": "code",
   "execution_count": 431,
   "id": "79495442",
   "metadata": {},
   "outputs": [
    {
     "data": {
      "text/html": [
       "<div>\n",
       "<style scoped>\n",
       "    .dataframe tbody tr th:only-of-type {\n",
       "        vertical-align: middle;\n",
       "    }\n",
       "\n",
       "    .dataframe tbody tr th {\n",
       "        vertical-align: top;\n",
       "    }\n",
       "\n",
       "    .dataframe thead th {\n",
       "        text-align: right;\n",
       "    }\n",
       "</style>\n",
       "<table border=\"1\" class=\"dataframe\">\n",
       "  <thead>\n",
       "    <tr style=\"text-align: right;\">\n",
       "      <th></th>\n",
       "      <th>phrase</th>\n",
       "      <th>optical_flow</th>\n",
       "    </tr>\n",
       "  </thead>\n",
       "  <tbody>\n",
       "    <tr>\n",
       "      <th>0</th>\n",
       "      <td>[38.0, 43.0, 32.0, 35.0, 56.0, 50.0, 0.0, 38.0...</td>\n",
       "      <td>[[0.001591, 0.0001718, 0.0002141, 0.0003755, 0...</td>\n",
       "    </tr>\n",
       "    <tr>\n",
       "      <th>1</th>\n",
       "      <td>[23.0, 22.0, 23.0, 15.0, 0.0, 46.0, 43.0, 35.0...</td>\n",
       "      <td>[[0.00594, 0.004566, 0.00405, 0.003918, 0.0046...</td>\n",
       "    </tr>\n",
       "    <tr>\n",
       "      <th>2</th>\n",
       "      <td>[10.0, 21.0, 17.0, 12.0, 23.0, 22.0, 24.0, 12....</td>\n",
       "      <td>[[0.01012, 0.01118, 0.008064, 0.004234, 0.0100...</td>\n",
       "    </tr>\n",
       "    <tr>\n",
       "      <th>3</th>\n",
       "      <td>[54.0, 54.0, 54.0, 13.0, 34.0, 39.0, 40.0, 45....</td>\n",
       "      <td>[[0.002455, 0.004124, 0.0047, 0.00502, 0.00409...</td>\n",
       "    </tr>\n",
       "    <tr>\n",
       "      <th>4</th>\n",
       "      <td>[22.0, 21.0, 19.0, 17.0, 0.0, 50.0, 46.0, 52.0...</td>\n",
       "      <td>[[0.0008645, 0.002289, 0.002016, 0.0021, 0.002...</td>\n",
       "    </tr>\n",
       "  </tbody>\n",
       "</table>\n",
       "</div>"
      ],
      "text/plain": [
       "                                              phrase  \\\n",
       "0  [38.0, 43.0, 32.0, 35.0, 56.0, 50.0, 0.0, 38.0...   \n",
       "1  [23.0, 22.0, 23.0, 15.0, 0.0, 46.0, 43.0, 35.0...   \n",
       "2  [10.0, 21.0, 17.0, 12.0, 23.0, 22.0, 24.0, 12....   \n",
       "3  [54.0, 54.0, 54.0, 13.0, 34.0, 39.0, 40.0, 45....   \n",
       "4  [22.0, 21.0, 19.0, 17.0, 0.0, 50.0, 46.0, 52.0...   \n",
       "\n",
       "                                        optical_flow  \n",
       "0  [[0.001591, 0.0001718, 0.0002141, 0.0003755, 0...  \n",
       "1  [[0.00594, 0.004566, 0.00405, 0.003918, 0.0046...  \n",
       "2  [[0.01012, 0.01118, 0.008064, 0.004234, 0.0100...  \n",
       "3  [[0.002455, 0.004124, 0.0047, 0.00502, 0.00409...  \n",
       "4  [[0.0008645, 0.002289, 0.002016, 0.0021, 0.002...  "
      ]
     },
     "execution_count": 431,
     "metadata": {},
     "output_type": "execute_result"
    }
   ],
   "source": [
    "dataset.drop([\"sequence_id\"], axis=1, inplace=True)\n",
    "dataset.head()"
   ]
  },
  {
   "cell_type": "code",
   "execution_count": 405,
   "id": "fa441dfa",
   "metadata": {},
   "outputs": [],
   "source": [
    "dataset_np = dataset.to_numpy().transpose()"
   ]
  },
  {
   "cell_type": "code",
   "execution_count": 403,
   "id": "9e779f36",
   "metadata": {},
   "outputs": [],
   "source": [
    "np.save(\"/Volumes/ExternalHDD/asl-fingerspelling/X_np.npy\",dataset.to_numpy().transpose())"
   ]
  },
  {
   "cell_type": "code",
   "execution_count": 406,
   "id": "1a6650f5",
   "metadata": {},
   "outputs": [],
   "source": [
    "X, y = dataset_np[1], dataset_np[0]"
   ]
  },
  {
   "cell_type": "code",
   "execution_count": 415,
   "id": "0bbd6189",
   "metadata": {},
   "outputs": [],
   "source": [
    "model = keras.Sequential()\n",
    "model.add(layers.LSTM(100))\n",
    "model.add(layers.LSTM(64))\n",
    "model.add(layers.LSTM(64))\n",
    "model.add(layers.Dense(128))\n",
    "model.add(layers.Dense(128))\n",
    "model.add(layers.Dense(1))"
   ]
  },
  {
   "cell_type": "code",
   "execution_count": 416,
   "id": "0916e901",
   "metadata": {},
   "outputs": [],
   "source": [
    "model.compile(optimizer=keras.optimizers.legacy.Adam(learning_rate=0.01),\n",
    "             loss=keras.losses.CategoricalCrossentropy())"
   ]
  },
  {
   "cell_type": "code",
   "execution_count": 417,
   "id": "06480965",
   "metadata": {},
   "outputs": [
    {
     "ename": "ValueError",
     "evalue": "setting an array element with a sequence.",
     "output_type": "error",
     "traceback": [
      "\u001b[0;31m---------------------------------------------------------------------------\u001b[0m",
      "\u001b[0;31mTypeError\u001b[0m                                 Traceback (most recent call last)",
      "\u001b[0;31mTypeError\u001b[0m: only size-1 arrays can be converted to Python scalars",
      "\nThe above exception was the direct cause of the following exception:\n",
      "\u001b[0;31mValueError\u001b[0m                                Traceback (most recent call last)",
      "\u001b[0;32m/var/folders/38/jtldm9cn7qjfn516_22dcgcm0000gn/T/ipykernel_77655/4063280812.py\u001b[0m in \u001b[0;36m<cell line: 1>\u001b[0;34m()\u001b[0m\n\u001b[0;32m----> 1\u001b[0;31m model.fit(x=X.astype(np.float32), \n\u001b[0m\u001b[1;32m      2\u001b[0m          y=y.astype(np.float32))\n",
      "\u001b[0;31mValueError\u001b[0m: setting an array element with a sequence."
     ]
    }
   ],
   "source": [
    "model.fit(x=X.astype(np.float32), \n",
    "         y=y.astype(np.float32))"
   ]
  },
  {
   "cell_type": "markdown",
   "id": "9b50f715",
   "metadata": {},
   "source": [
    "Rather than pushing the dataset directly into the model, try to emulate what you did with images i.e. images would be interpreted as images- in that same way feed the optical flow data into the model reshaping the input and output data as images and the later on reshape them into a straight line to later process it through a transformer model or a LSTM  "
   ]
  },
  {
   "cell_type": "code",
   "execution_count": null,
   "id": "f9503a30",
   "metadata": {},
   "outputs": [],
   "source": []
  }
 ],
 "metadata": {
  "kernelspec": {
   "display_name": "Python 3 (ipykernel)",
   "language": "python",
   "name": "python3"
  },
  "language_info": {
   "codemirror_mode": {
    "name": "ipython",
    "version": 3
   },
   "file_extension": ".py",
   "mimetype": "text/x-python",
   "name": "python",
   "nbconvert_exporter": "python",
   "pygments_lexer": "ipython3",
   "version": "3.10.6"
  }
 },
 "nbformat": 4,
 "nbformat_minor": 5
}
