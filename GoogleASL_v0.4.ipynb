{
 "cells": [
  {
   "cell_type": "code",
   "execution_count": 22,
   "id": "d2539947",
   "metadata": {},
   "outputs": [],
   "source": [
    "import numpy as np\n",
    "import torch\n",
    "import torchvision.transforms.functional as fn\n",
    "import tensorflow as tf\n",
    "from tensorflow import keras\n",
    "from tensorflow.keras.preprocessing.sequence import pad_sequences\n",
    "from tensorflow.keras.preprocessing.image import smart_resize"
   ]
  },
  {
   "cell_type": "code",
   "execution_count": 12,
   "id": "50f7d0df",
   "metadata": {},
   "outputs": [],
   "source": [
    "X = np.load(\"X.npy\", allow_pickle=True).transpose()"
   ]
  },
  {
   "cell_type": "code",
   "execution_count": 14,
   "id": "04d879e8",
   "metadata": {},
   "outputs": [],
   "source": [
    "landmarks = X[0]\n",
    "phrases = X[1]"
   ]
  },
  {
   "cell_type": "code",
   "execution_count": 17,
   "id": "41b13e1f",
   "metadata": {},
   "outputs": [
    {
     "data": {
      "text/plain": [
       "array([[ 0,  0,  0,  0,  0,  0,  0,  0,  0,  0,  0,  0,  0,  0,  0,  0,\n",
       "         0, 38, 43, 32, 35, 56, 50,  0, 38, 52, 57, 44, 32, 45]],\n",
       "      dtype=int32)"
      ]
     },
     "execution_count": 17,
     "metadata": {},
     "output_type": "execute_result"
    }
   ],
   "source": [
    "pad_sequences([phrases[0]], maxlen=30)"
   ]
  },
  {
   "cell_type": "code",
   "execution_count": 58,
   "id": "3c3a7447",
   "metadata": {},
   "outputs": [
    {
     "data": {
      "text/plain": [
       "(600, 600, 2)"
      ]
     },
     "execution_count": 58,
     "metadata": {},
     "output_type": "execute_result"
    }
   ],
   "source": [
    "smart_resize(landmarks[0],(600,600)).shape"
   ]
  },
  {
   "cell_type": "code",
   "execution_count": 57,
   "id": "05ae2faf",
   "metadata": {},
   "outputs": [
    {
     "data": {
      "text/plain": [
       "tensor([[[0.5581, 0.5520, 0.5533,  ..., 0.4913, 0.4729, 0.4412],\n",
       "         [0.5581, 0.5520, 0.5533,  ..., 0.4913, 0.4729, 0.4412],\n",
       "         [0.5581, 0.5520, 0.5533,  ..., 0.4913, 0.4729, 0.4412],\n",
       "         ...,\n",
       "         [0.5581, 0.5479, 0.5502,  ..., 0.2832, 0.3001, 0.3066],\n",
       "         [0.5581, 0.5479, 0.5502,  ..., 0.2832, 0.3001, 0.3066],\n",
       "         [0.5581, 0.5479, 0.5502,  ..., 0.2832, 0.3001, 0.3066]],\n",
       "\n",
       "        [[0.4456, 0.4085, 0.4113,  ..., 0.8189, 0.8169, 0.8193],\n",
       "         [0.4456, 0.4085, 0.4113,  ..., 0.8189, 0.8169, 0.8193],\n",
       "         [0.4456, 0.4085, 0.4113,  ..., 0.8189, 0.8169, 0.8193],\n",
       "         ...,\n",
       "         [0.4438, 0.4101, 0.4126,  ..., 0.7656, 0.8014, 0.8174],\n",
       "         [0.4438, 0.4101, 0.4126,  ..., 0.7656, 0.8014, 0.8174],\n",
       "         [0.4438, 0.4101, 0.4126,  ..., 0.7656, 0.8014, 0.8174]]],\n",
       "       dtype=torch.float64)"
      ]
     },
     "execution_count": 57,
     "metadata": {},
     "output_type": "execute_result"
    }
   ],
   "source": [
    "fn.resize(torch.tensor(landmarks[0]).permute(-1,0,1), (600,600))"
   ]
  },
  {
   "cell_type": "code",
   "execution_count": null,
   "id": "461e015f",
   "metadata": {},
   "outputs": [],
   "source": []
  },
  {
   "cell_type": "code",
   "execution_count": null,
   "id": "eee4a793",
   "metadata": {},
   "outputs": [],
   "source": []
  }
 ],
 "metadata": {
  "kernelspec": {
   "display_name": "Python 3 (ipykernel)",
   "language": "python",
   "name": "python3"
  },
  "language_info": {
   "codemirror_mode": {
    "name": "ipython",
    "version": 3
   },
   "file_extension": ".py",
   "mimetype": "text/x-python",
   "name": "python",
   "nbconvert_exporter": "python",
   "pygments_lexer": "ipython3",
   "version": "3.10.6"
  }
 },
 "nbformat": 4,
 "nbformat_minor": 5
}
